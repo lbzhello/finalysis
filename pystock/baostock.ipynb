{
 "metadata": {
  "language_info": {
   "codemirror_mode": {
    "name": "ipython",
    "version": 3
   },
   "file_extension": ".py",
   "mimetype": "text/x-python",
   "name": "python",
   "nbconvert_exporter": "python",
   "pygments_lexer": "ipython3",
   "version": "3.7.4-final"
  },
  "orig_nbformat": 2,
  "kernelspec": {
   "name": "python37464bit0ee7e298475f4656b8ea4725d7d52055",
   "display_name": "Python 3.7.4 64-bit"
  }
 },
 "nbformat": 4,
 "nbformat_minor": 2,
 "cells": [
  {
   "cell_type": "code",
   "execution_count": 5,
   "metadata": {},
   "outputs": [],
   "source": [
    "import baostock as bs\n",
    "import pandas as pd"
   ]
  },
  {
   "cell_type": "code",
   "execution_count": 6,
   "metadata": {},
   "outputs": [
    {
     "output_type": "stream",
     "name": "stdout",
     "text": [
      "login success!\n"
     ]
    },
    {
     "output_type": "execute_result",
     "data": {
      "text/plain": [
       "<baostock.data.resultset.ResultData at 0x1c2d878c848>"
      ]
     },
     "metadata": {},
     "execution_count": 6
    }
   ],
   "source": [
    "bs.login()"
   ]
  },
  {
   "cell_type": "code",
   "execution_count": 7,
   "metadata": {},
   "outputs": [],
   "source": [
    "rs = bs.query_history_k_data_plus(\"sh.600036\",\n",
    "    \"date,code,open,high,low,close,preclose,volume,amount,adjustflag,turn,tradestatus,pctChg,peTTM,pbMRQ,psTTM,pcfNcfTTM,isST\",\n",
    "    start_date='2020-06-01', end_date='2020-12-31',\n",
    "    frequency=\"d\", adjustflag=\"3\") #frequency=\"d\"取日k线，adjustflag=\"3\"默认不复权"
   ]
  },
  {
   "cell_type": "code",
   "execution_count": 8,
   "metadata": {},
   "outputs": [],
   "source": [
    "data_list = []\n",
    "while (rs.error_code == '0') & rs.next():\n",
    "    # 获取一条记录，将记录合并在一起\n",
    "    data_list.append(rs.get_row_data())\n",
    "result = pd.DataFrame(data_list, columns=rs.fields)"
   ]
  },
  {
   "cell_type": "code",
   "execution_count": 9,
   "metadata": {},
   "outputs": [
    {
     "output_type": "execute_result",
     "data": {
      "text/plain": [
       "           date       code     open     high      low    close preclose  \\\n",
       "0    2020-06-01  sh.600036  34.1500  34.9700  34.1000  34.8200  33.8200   \n",
       "1    2020-06-02  sh.600036  34.5500  35.2600  34.5400  35.0400  34.8200   \n",
       "2    2020-06-03  sh.600036  35.4500  36.0000  35.0200  35.2200  35.0400   \n",
       "3    2020-06-04  sh.600036  35.5000  35.5500  35.0700  35.1500  35.2200   \n",
       "4    2020-06-05  sh.600036  35.3000  35.4700  34.8100  35.2400  35.1500   \n",
       "..          ...        ...      ...      ...      ...      ...      ...   \n",
       "131  2020-12-11  sh.600036  44.2500  44.2700  42.6800  42.6800  44.2800   \n",
       "132  2020-12-14  sh.600036  43.3200  44.6600  43.3200  44.3700  42.6800   \n",
       "133  2020-12-15  sh.600036  44.4500  44.9400  43.4400  44.3500  44.3700   \n",
       "134  2020-12-16  sh.600036  44.7900  44.8500  43.8800  44.0600  44.3500   \n",
       "135  2020-12-17  sh.600036  43.9000  44.1700  43.3500  44.0500  44.0600   \n",
       "\n",
       "       volume           amount adjustflag      turn tradestatus     pctChg  \\\n",
       "0    48823746  1693982687.0000          3  0.236700           1   2.956800   \n",
       "1    49295713  1726597705.0000          3  0.239000           1   0.631800   \n",
       "2    61018691  2169754932.0000          3  0.295800           1   0.513700   \n",
       "3    25756086   909222198.0000          3  0.124900           1  -0.198700   \n",
       "4    32717303  1146499654.0000          3  0.158600           1   0.256000   \n",
       "..        ...              ...        ...       ...         ...        ...   \n",
       "131  77143525  3347336214.3900          3  0.374000           1  -3.613400   \n",
       "132  60742701  2686115498.7900          3  0.294500           1   3.959700   \n",
       "133  43879226  1936658508.6300          3  0.212700           1  -0.045100   \n",
       "134  36790200  1628021246.6600          3  0.178300           1  -0.653900   \n",
       "135  50232903  2199570321.0500          3  0.243500           1  -0.022700   \n",
       "\n",
       "         peTTM     pbMRQ     psTTM   pcfNcfTTM isST  \n",
       "0     9.202857  1.444415  3.163759    4.527482    0  \n",
       "1     9.261003  1.453541  3.183748    4.556088    0  \n",
       "2     9.308576  1.461008  3.200103    4.579493    0  \n",
       "3     9.290075  1.458104  3.193743    4.570391    0  \n",
       "4     9.313862  1.461837  3.201920    4.582093    0  \n",
       "..         ...       ...       ...         ...  ...  \n",
       "131  11.670512  1.738199  3.798065  -10.724578    0  \n",
       "132  12.132629  1.807026  3.948457  -11.149239    0  \n",
       "133  12.127161  1.806212  3.946677  -11.144214    0  \n",
       "134  12.047862  1.794401  3.920870  -11.071343    0  \n",
       "135  12.045128  1.793994  3.919980  -11.068830    0  \n",
       "\n",
       "[136 rows x 18 columns]"
      ],
      "text/html": "<div>\n<style scoped>\n    .dataframe tbody tr th:only-of-type {\n        vertical-align: middle;\n    }\n\n    .dataframe tbody tr th {\n        vertical-align: top;\n    }\n\n    .dataframe thead th {\n        text-align: right;\n    }\n</style>\n<table border=\"1\" class=\"dataframe\">\n  <thead>\n    <tr style=\"text-align: right;\">\n      <th></th>\n      <th>date</th>\n      <th>code</th>\n      <th>open</th>\n      <th>high</th>\n      <th>low</th>\n      <th>close</th>\n      <th>preclose</th>\n      <th>volume</th>\n      <th>amount</th>\n      <th>adjustflag</th>\n      <th>turn</th>\n      <th>tradestatus</th>\n      <th>pctChg</th>\n      <th>peTTM</th>\n      <th>pbMRQ</th>\n      <th>psTTM</th>\n      <th>pcfNcfTTM</th>\n      <th>isST</th>\n    </tr>\n  </thead>\n  <tbody>\n    <tr>\n      <th>0</th>\n      <td>2020-06-01</td>\n      <td>sh.600036</td>\n      <td>34.1500</td>\n      <td>34.9700</td>\n      <td>34.1000</td>\n      <td>34.8200</td>\n      <td>33.8200</td>\n      <td>48823746</td>\n      <td>1693982687.0000</td>\n      <td>3</td>\n      <td>0.236700</td>\n      <td>1</td>\n      <td>2.956800</td>\n      <td>9.202857</td>\n      <td>1.444415</td>\n      <td>3.163759</td>\n      <td>4.527482</td>\n      <td>0</td>\n    </tr>\n    <tr>\n      <th>1</th>\n      <td>2020-06-02</td>\n      <td>sh.600036</td>\n      <td>34.5500</td>\n      <td>35.2600</td>\n      <td>34.5400</td>\n      <td>35.0400</td>\n      <td>34.8200</td>\n      <td>49295713</td>\n      <td>1726597705.0000</td>\n      <td>3</td>\n      <td>0.239000</td>\n      <td>1</td>\n      <td>0.631800</td>\n      <td>9.261003</td>\n      <td>1.453541</td>\n      <td>3.183748</td>\n      <td>4.556088</td>\n      <td>0</td>\n    </tr>\n    <tr>\n      <th>2</th>\n      <td>2020-06-03</td>\n      <td>sh.600036</td>\n      <td>35.4500</td>\n      <td>36.0000</td>\n      <td>35.0200</td>\n      <td>35.2200</td>\n      <td>35.0400</td>\n      <td>61018691</td>\n      <td>2169754932.0000</td>\n      <td>3</td>\n      <td>0.295800</td>\n      <td>1</td>\n      <td>0.513700</td>\n      <td>9.308576</td>\n      <td>1.461008</td>\n      <td>3.200103</td>\n      <td>4.579493</td>\n      <td>0</td>\n    </tr>\n    <tr>\n      <th>3</th>\n      <td>2020-06-04</td>\n      <td>sh.600036</td>\n      <td>35.5000</td>\n      <td>35.5500</td>\n      <td>35.0700</td>\n      <td>35.1500</td>\n      <td>35.2200</td>\n      <td>25756086</td>\n      <td>909222198.0000</td>\n      <td>3</td>\n      <td>0.124900</td>\n      <td>1</td>\n      <td>-0.198700</td>\n      <td>9.290075</td>\n      <td>1.458104</td>\n      <td>3.193743</td>\n      <td>4.570391</td>\n      <td>0</td>\n    </tr>\n    <tr>\n      <th>4</th>\n      <td>2020-06-05</td>\n      <td>sh.600036</td>\n      <td>35.3000</td>\n      <td>35.4700</td>\n      <td>34.8100</td>\n      <td>35.2400</td>\n      <td>35.1500</td>\n      <td>32717303</td>\n      <td>1146499654.0000</td>\n      <td>3</td>\n      <td>0.158600</td>\n      <td>1</td>\n      <td>0.256000</td>\n      <td>9.313862</td>\n      <td>1.461837</td>\n      <td>3.201920</td>\n      <td>4.582093</td>\n      <td>0</td>\n    </tr>\n    <tr>\n      <th>...</th>\n      <td>...</td>\n      <td>...</td>\n      <td>...</td>\n      <td>...</td>\n      <td>...</td>\n      <td>...</td>\n      <td>...</td>\n      <td>...</td>\n      <td>...</td>\n      <td>...</td>\n      <td>...</td>\n      <td>...</td>\n      <td>...</td>\n      <td>...</td>\n      <td>...</td>\n      <td>...</td>\n      <td>...</td>\n      <td>...</td>\n    </tr>\n    <tr>\n      <th>131</th>\n      <td>2020-12-11</td>\n      <td>sh.600036</td>\n      <td>44.2500</td>\n      <td>44.2700</td>\n      <td>42.6800</td>\n      <td>42.6800</td>\n      <td>44.2800</td>\n      <td>77143525</td>\n      <td>3347336214.3900</td>\n      <td>3</td>\n      <td>0.374000</td>\n      <td>1</td>\n      <td>-3.613400</td>\n      <td>11.670512</td>\n      <td>1.738199</td>\n      <td>3.798065</td>\n      <td>-10.724578</td>\n      <td>0</td>\n    </tr>\n    <tr>\n      <th>132</th>\n      <td>2020-12-14</td>\n      <td>sh.600036</td>\n      <td>43.3200</td>\n      <td>44.6600</td>\n      <td>43.3200</td>\n      <td>44.3700</td>\n      <td>42.6800</td>\n      <td>60742701</td>\n      <td>2686115498.7900</td>\n      <td>3</td>\n      <td>0.294500</td>\n      <td>1</td>\n      <td>3.959700</td>\n      <td>12.132629</td>\n      <td>1.807026</td>\n      <td>3.948457</td>\n      <td>-11.149239</td>\n      <td>0</td>\n    </tr>\n    <tr>\n      <th>133</th>\n      <td>2020-12-15</td>\n      <td>sh.600036</td>\n      <td>44.4500</td>\n      <td>44.9400</td>\n      <td>43.4400</td>\n      <td>44.3500</td>\n      <td>44.3700</td>\n      <td>43879226</td>\n      <td>1936658508.6300</td>\n      <td>3</td>\n      <td>0.212700</td>\n      <td>1</td>\n      <td>-0.045100</td>\n      <td>12.127161</td>\n      <td>1.806212</td>\n      <td>3.946677</td>\n      <td>-11.144214</td>\n      <td>0</td>\n    </tr>\n    <tr>\n      <th>134</th>\n      <td>2020-12-16</td>\n      <td>sh.600036</td>\n      <td>44.7900</td>\n      <td>44.8500</td>\n      <td>43.8800</td>\n      <td>44.0600</td>\n      <td>44.3500</td>\n      <td>36790200</td>\n      <td>1628021246.6600</td>\n      <td>3</td>\n      <td>0.178300</td>\n      <td>1</td>\n      <td>-0.653900</td>\n      <td>12.047862</td>\n      <td>1.794401</td>\n      <td>3.920870</td>\n      <td>-11.071343</td>\n      <td>0</td>\n    </tr>\n    <tr>\n      <th>135</th>\n      <td>2020-12-17</td>\n      <td>sh.600036</td>\n      <td>43.9000</td>\n      <td>44.1700</td>\n      <td>43.3500</td>\n      <td>44.0500</td>\n      <td>44.0600</td>\n      <td>50232903</td>\n      <td>2199570321.0500</td>\n      <td>3</td>\n      <td>0.243500</td>\n      <td>1</td>\n      <td>-0.022700</td>\n      <td>12.045128</td>\n      <td>1.793994</td>\n      <td>3.919980</td>\n      <td>-11.068830</td>\n      <td>0</td>\n    </tr>\n  </tbody>\n</table>\n<p>136 rows × 18 columns</p>\n</div>"
     },
     "metadata": {},
     "execution_count": 9
    }
   ],
   "source": [
    "result"
   ]
  },
  {
   "cell_type": "code",
   "execution_count": null,
   "metadata": {},
   "outputs": [],
   "source": []
  }
 ]
}