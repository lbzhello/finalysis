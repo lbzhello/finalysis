{
 "metadata": {
  "language_info": {
   "codemirror_mode": {
    "name": "ipython",
    "version": 3
   },
   "file_extension": ".py",
   "mimetype": "text/x-python",
   "name": "python",
   "nbconvert_exporter": "python",
   "pygments_lexer": "ipython3",
   "version": "3.7.4-final"
  },
  "orig_nbformat": 2,
  "kernelspec": {
   "name": "python37464bit0ee7e298475f4656b8ea4725d7d52055",
   "display_name": "Python 3.7.4 64-bit"
  }
 },
 "nbformat": 4,
 "nbformat_minor": 2,
 "cells": [
  {
   "cell_type": "code",
   "execution_count": 8,
   "metadata": {},
   "outputs": [],
   "source": [
    "import psycopg2 as pg\n",
    "import pandas as pd\n",
    "from datetime import datetime\n",
    "from pystock.database.model.kline import KLine"
   ]
  },
  {
   "cell_type": "code",
   "execution_count": 122,
   "metadata": {},
   "outputs": [],
   "source": [
    "__host = '127.0.0.1'\n",
    "__port = '5432'\n",
    "__database = 'stock'\n",
    "__user = 'postgres'\n",
    "__password = '191908577'"
   ]
  },
  {
   "cell_type": "code",
   "execution_count": 123,
   "metadata": {},
   "outputs": [],
   "source": [
    "# 连接到一个给定的数据库\n",
    "conn = pg.connect(host=__host, port=__port, database=__database, user=__user, password=__password)\n",
    "# 建立游标，用来执行数据库操作\n",
    "cursor = conn.cursor()"
   ]
  },
  {
   "cell_type": "code",
   "execution_count": 124,
   "metadata": {},
   "outputs": [
    {
     "output_type": "stream",
     "name": "stdout",
     "text": [
      "stock_db runing as main\n"
     ]
    }
   ],
   "source": [
    "\"\"\"用于测试\"\"\"\n",
    "if __name__ == '__main__':\n",
    "    print('stock_db runing as main')"
   ]
  },
  {
   "cell_type": "code",
   "execution_count": 125,
   "metadata": {},
   "outputs": [],
   "source": [
    "def close():\n",
    "    if cursor is not None:\n",
    "        cursor.close()\n",
    "    if conn is not None:\n",
    "        conn.close()"
   ]
  },
  {
   "cell_type": "code",
   "execution_count": 9,
   "metadata": {},
   "outputs": [],
   "source": [
    "def insert(kline: KLine):\n",
    "    # SQLAlchemy\n",
    "    sql = 'insert into k_line values ()'\n",
    "    # 执行SQL SELECT命令\n",
    "    cursor.execute(sql)\n",
    "    # 获取SELECT返回的元组\n",
    "    return(cursor.fetchall())"
   ]
  },
  {
   "cell_type": "code",
   "execution_count": 127,
   "metadata": {},
   "outputs": [],
   "source": [
    "# 执行SQL SELECT命令\n",
    "cursor.execute(\"select * from k_line\")"
   ]
  },
  {
   "cell_type": "code",
   "execution_count": 128,
   "metadata": {},
   "outputs": [
    {
     "output_type": "execute_result",
     "data": {
      "text/plain": [
       "[(1,\n",
       "  datetime.datetime(2020, 12, 20, 23, 39, 8, tzinfo=psycopg2.tz.FixedOffsetTimezone(offset=480, name=None)),\n",
       "  datetime.datetime(2020, 12, 20, 23, 39, 34, tzinfo=psycopg2.tz.FixedOffsetTimezone(offset=480, name=None)),\n",
       "  Decimal('0.00'),\n",
       "  Decimal('0.00'),\n",
       "  Decimal('0.00'),\n",
       "  Decimal('0.00'),\n",
       "  0,\n",
       "  0,\n",
       "  Decimal('0.00'),\n",
       "  Decimal('0.00'),\n",
       "  Decimal('0.00'),\n",
       "  Decimal('0.00'),\n",
       "  Decimal('0.00')),\n",
       " (2,\n",
       "  datetime.datetime(2020, 12, 20, 0, 0, tzinfo=psycopg2.tz.FixedOffsetTimezone(offset=480, name=None)),\n",
       "  datetime.datetime(2020, 12, 20, 23, 40, 16, tzinfo=psycopg2.tz.FixedOffsetTimezone(offset=480, name=None)),\n",
       "  Decimal('0.00'),\n",
       "  Decimal('0.00'),\n",
       "  Decimal('0.00'),\n",
       "  Decimal('0.00'),\n",
       "  0,\n",
       "  0,\n",
       "  Decimal('0.00'),\n",
       "  Decimal('0.00'),\n",
       "  Decimal('0.00'),\n",
       "  Decimal('0.00'),\n",
       "  Decimal('0.00')),\n",
       " (3,\n",
       "  datetime.datetime(2020, 12, 20, 0, 0, tzinfo=psycopg2.tz.FixedOffsetTimezone(offset=480, name=None)),\n",
       "  datetime.datetime(2020, 12, 20, 23, 47, 43, tzinfo=psycopg2.tz.FixedOffsetTimezone(offset=480, name=None)),\n",
       "  Decimal('0.00'),\n",
       "  Decimal('0.00'),\n",
       "  Decimal('0.00'),\n",
       "  Decimal('0.00'),\n",
       "  0,\n",
       "  0,\n",
       "  Decimal('0.00'),\n",
       "  Decimal('0.00'),\n",
       "  Decimal('0.00'),\n",
       "  Decimal('0.00'),\n",
       "  Decimal('0.00')),\n",
       " (4,\n",
       "  datetime.datetime(2020, 12, 20, 0, 0, tzinfo=psycopg2.tz.FixedOffsetTimezone(offset=480, name=None)),\n",
       "  datetime.datetime(2020, 12, 20, 23, 51, 1, tzinfo=psycopg2.tz.FixedOffsetTimezone(offset=480, name=None)),\n",
       "  Decimal('0.00'),\n",
       "  Decimal('0.00'),\n",
       "  Decimal('0.00'),\n",
       "  Decimal('0.00'),\n",
       "  0,\n",
       "  0,\n",
       "  Decimal('0.00'),\n",
       "  Decimal('0.00'),\n",
       "  Decimal('0.00'),\n",
       "  Decimal('0.00'),\n",
       "  Decimal('0.00'))]"
      ]
     },
     "metadata": {},
     "execution_count": 128
    }
   ],
   "source": [
    "# 获取SELECT返回的元组\n",
    "rows = cursor.fetchall()\n",
    "rows"
   ]
  },
  {
   "cell_type": "code",
   "execution_count": 7,
   "metadata": {},
   "outputs": [],
   "source": [
    "code22 = kline.KLine('22').start_time('jj').end_time('bb')"
   ]
  },
  {
   "cell_type": "code",
   "execution_count": 61,
   "metadata": {},
   "outputs": [],
   "source": [
    "cursor.execute(\"delete from k_line where stock_code = 1\")"
   ]
  },
  {
   "cell_type": "code",
   "execution_count": 62,
   "metadata": {},
   "outputs": [
    {
     "output_type": "error",
     "ename": "ProgrammingError",
     "evalue": "no results to fetch",
     "traceback": [
      "\u001b[1;31m---------------------------------------------------------------------------\u001b[0m",
      "\u001b[1;31mProgrammingError\u001b[0m                          Traceback (most recent call last)",
      "\u001b[1;32m<ipython-input-62-d35fc1caa8d6>\u001b[0m in \u001b[0;36m<module>\u001b[1;34m\u001b[0m\n\u001b[1;32m----> 1\u001b[1;33m \u001b[0mcursor\u001b[0m\u001b[1;33m.\u001b[0m\u001b[0mfetchall\u001b[0m\u001b[1;33m(\u001b[0m\u001b[1;33m)\u001b[0m\u001b[1;33m\u001b[0m\u001b[1;33m\u001b[0m\u001b[0m\n\u001b[0m",
      "\u001b[1;31mProgrammingError\u001b[0m: no results to fetch"
     ]
    }
   ],
   "source": [
    "cursor.fetchall()"
   ]
  },
  {
   "cell_type": "code",
   "execution_count": 16,
   "metadata": {},
   "outputs": [],
   "source": [
    "# 关闭游标\n",
    "cursor.close()\n",
    "\n",
    "# 关闭数据库连接\n",
    "conn.close()"
   ]
  },
  {
   "cell_type": "code",
   "execution_count": null,
   "metadata": {},
   "outputs": [],
   "source": []
  }
 ]
}